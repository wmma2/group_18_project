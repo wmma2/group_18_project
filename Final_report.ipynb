{
 "cells": [
  {
   "cell_type": "markdown",
   "id": "e50d159f-48a5-44e5-a7ef-77871666c284",
   "metadata": {
    "tags": []
   },
   "source": [
    "<font size=\"8\">**Final Report**"
   ]
  },
  {
   "cell_type": "markdown",
   "id": "27c5c945-6ddb-402e-a007-b2c90d94e607",
   "metadata": {},
   "source": [
    "<font size=\"8\">**Introduction**\n",
    "\n",
    "### What is Diabetes?\n",
    "\n",
    "Diabetes is a metabolic condition where the body is unable to regulate blood sugar levels effectively (American Diabetes Association, 2013). It is a common disease, with 38.5% of men and 32.8% of women in the US at risk of the condition as reported in the year 2000 (Gray et al., 2015). There exists 2 types of diabetes: Type I and Type II. Type I diabetes affects around 5-10% of those with diabetes and is when the body doesn’t *produce* insulin (a blood sugar regulating hormone) and is therefore unable to regulate blood sugar levels. Type II diabetes is when the body either doesn’t produce *enough* insulin or doesn’t use it effectively and this type accounts for around 90-95% of those diagnosed with diabetes (American Diabetes Association, 2013).\n",
    "\n",
    "### Diagnosing Diabetes & Question\n",
    "\n",
    "The standard for diabetes diagnosis is dictated by ones' blood test results that show Hemoglobin A1c (a component of blood) levels ≥ 6.5 (American Diabetes Association (2013), Patel et al., 2023). Interestingly, a study conducted on factors associated with diabetes strongly suggest that Body Mass Index (BMI) is associated with diabetes. The results suggested that those with even moderately higher BMI's are associated with an increased risk of developing diabetes (Gray et al., 2015., Patel et al., 2023). Thus, for this project, we aim to answer the question: **Can we predict a patient's diabetes diagnosis based on their blood glucose level (mg/dL) and BMI (kg/m2)?**\n",
    "    \n",
    "### Dataset\n",
    "\n",
    "The dataset we will be using for this project contains demographic and laboratory variables on African-American patients including height, weight, gender, age, Hemoglobin A1c level, blood pressure etc. The dataset was initially compiled by Mohamadreza Momeni to use for machine learning models in diabetes diagnosis.\n",
    "\n",
    "### Biases in diabetes literature review\n",
    "\n",
    "The motivation for using this dataset is to encourage equity in medical research by using data from a racially diverse sample. A 2023 study on the diagnosis of diabetes has found that current literature on the diagnosis of diabetes is biased as a large number of diabetes diagnosis models are based on data collected largely from non-hispanic Whites. This implicates a dangerous overdiagnosis of diabetes among non-hispanic Whites *and* an underdiagnosis of diabetes among non-hispanic Blacks (Cronjé et al., 2023). Thus, we have chosen to conduct our project using this dataset as it consists of African-American participants with the aim of avoiding biases in diagnostic models and equity in healthcare by contributing diverse data within the diabetes literature. \n",
    "    \n",
    "### References\n",
    "\n",
    "<font size=\"2\">American Diabetes Association. (2013). Diagnosis and Classification of Diabetes Mellitus. *Diabetes Care, 37(1)*, S81–S90. https://doi.org/10.2337/dc14-S081\n",
    "\n",
    "<font size=\"2\">Cronjé, Héléne T., Katsiferis, Aleandros, Elsenburg, Leonie K., Andersen, Theo O., Rod, Naja H. Varga, Tibor V. (2023). Assessing racial bias in type 2 diabetes risk prediction algorithms. *PLOS Glob Public Health. 2023; 3(5)*, e0001556. https://doi.org/10.1371/journal.pgph.0001556\n",
    "\n",
    "<font size=\"2\">Gray, Natallia., Picone, Gabriel., Sloan, Frank., Yashkin, Arseniy. (2015). The Relationship between BMI and Onset of Diabetes Mellitus and its Complications. *National Library of Medicine, 108(1), 29-36*. https://doi: 10.14423/SMJ.0000000000000214\n",
    "\n",
    "<font size=\"2\">Momeni, Mohamadreza. (2023). Diabetes. Version 1 . Retrieved Oct 24, 2023 from https://www.kaggle.com/datasets/imtkaggleteam/diabetes \n",
    "\n",
    "<font size=\"2\">Patel, B. J., Mehta, D. N., Vaghani, A., & Patel, K. (2023). Correlation of Body Mass Index (BMI) with Saliva and Blood Glucose Levels in Diabetic and Non-Diabetic Patients. *Journal of pharmacy & bioallied sciences, 15(Suppl 2)*, S1204–S1207. https://doi.org/10.4103/jpbs.jpbs_159_23\n"
   ]
  },
  {
   "cell_type": "markdown",
   "id": "49f95ccf-05d7-4e30-b8b2-d7776b4abe8c",
   "metadata": {
    "tags": []
   },
   "source": [
    "<font size=\"8\">**Methods**\n",
    "    \n",
    "-- Description of methods -- write this after we've done all the code --\n",
    "\n",
    "Please run the following cell to load the library packages necessary\n",
    "    \n",
    "### References\n",
    "    \n",
    "Fehring, Thomas, K., Odum, Susan, M., Griffin, William, L., Mason, Bohannon., McCoy, Thomas H. (2007). The Obesity Epidemic: Its Effect on Total Joint Arthroplasty. *The Journal of Arthroplasty, 22(6)*, 71-76. https://doi.org/10.1016/j.arth.2007.04.014\n"
   ]
  },
  {
   "cell_type": "code",
   "execution_count": 1,
   "id": "873ce2d6-403e-41f9-995c-2da1abf01208",
   "metadata": {
    "tags": []
   },
   "outputs": [
    {
     "name": "stderr",
     "output_type": "stream",
     "text": [
      "── \u001b[1mAttaching packages\u001b[22m ─────────────────────────────────────── tidyverse 1.3.2 ──\n",
      "\u001b[32m✔\u001b[39m \u001b[34mggplot2\u001b[39m 3.4.2     \u001b[32m✔\u001b[39m \u001b[34mpurrr  \u001b[39m 1.0.1\n",
      "\u001b[32m✔\u001b[39m \u001b[34mtibble \u001b[39m 3.2.1     \u001b[32m✔\u001b[39m \u001b[34mdplyr  \u001b[39m 1.1.1\n",
      "\u001b[32m✔\u001b[39m \u001b[34mtidyr  \u001b[39m 1.3.0     \u001b[32m✔\u001b[39m \u001b[34mstringr\u001b[39m 1.5.0\n",
      "\u001b[32m✔\u001b[39m \u001b[34mreadr  \u001b[39m 2.1.3     \u001b[32m✔\u001b[39m \u001b[34mforcats\u001b[39m 0.5.2\n",
      "── \u001b[1mConflicts\u001b[22m ────────────────────────────────────────── tidyverse_conflicts() ──\n",
      "\u001b[31m✖\u001b[39m \u001b[34mdplyr\u001b[39m::\u001b[32mfilter()\u001b[39m         masks \u001b[34mstats\u001b[39m::filter()\n",
      "\u001b[31m✖\u001b[39m \u001b[34mreadr\u001b[39m::\u001b[32mguess_encoding()\u001b[39m masks \u001b[34mrvest\u001b[39m::guess_encoding()\n",
      "\u001b[31m✖\u001b[39m \u001b[34mdplyr\u001b[39m::\u001b[32mlag()\u001b[39m            masks \u001b[34mstats\u001b[39m::lag()\n",
      "── \u001b[1mAttaching packages\u001b[22m ────────────────────────────────────── tidymodels 1.0.0 ──\n",
      "\n",
      "\u001b[32m✔\u001b[39m \u001b[34mbroom       \u001b[39m 1.0.2     \u001b[32m✔\u001b[39m \u001b[34mrsample     \u001b[39m 1.1.1\n",
      "\u001b[32m✔\u001b[39m \u001b[34mdials       \u001b[39m 1.1.0     \u001b[32m✔\u001b[39m \u001b[34mtune        \u001b[39m 1.0.1\n",
      "\u001b[32m✔\u001b[39m \u001b[34minfer       \u001b[39m 1.0.4     \u001b[32m✔\u001b[39m \u001b[34mworkflows   \u001b[39m 1.1.2\n",
      "\u001b[32m✔\u001b[39m \u001b[34mmodeldata   \u001b[39m 1.0.1     \u001b[32m✔\u001b[39m \u001b[34mworkflowsets\u001b[39m 1.0.0\n",
      "\u001b[32m✔\u001b[39m \u001b[34mparsnip     \u001b[39m 1.0.3     \u001b[32m✔\u001b[39m \u001b[34myardstick   \u001b[39m 1.1.0\n",
      "\u001b[32m✔\u001b[39m \u001b[34mrecipes     \u001b[39m 1.0.4     \n",
      "\n",
      "── \u001b[1mConflicts\u001b[22m ───────────────────────────────────────── tidymodels_conflicts() ──\n",
      "\u001b[31m✖\u001b[39m \u001b[34mscales\u001b[39m::\u001b[32mdiscard()\u001b[39m masks \u001b[34mpurrr\u001b[39m::discard()\n",
      "\u001b[31m✖\u001b[39m \u001b[34mdplyr\u001b[39m::\u001b[32mfilter()\u001b[39m   masks \u001b[34mstats\u001b[39m::filter()\n",
      "\u001b[31m✖\u001b[39m \u001b[34mrecipes\u001b[39m::\u001b[32mfixed()\u001b[39m  masks \u001b[34mstringr\u001b[39m::fixed()\n",
      "\u001b[31m✖\u001b[39m \u001b[34mdplyr\u001b[39m::\u001b[32mlag()\u001b[39m      masks \u001b[34mstats\u001b[39m::lag()\n",
      "\u001b[31m✖\u001b[39m \u001b[34myardstick\u001b[39m::\u001b[32mspec()\u001b[39m masks \u001b[34mreadr\u001b[39m::spec()\n",
      "\u001b[31m✖\u001b[39m \u001b[34mrecipes\u001b[39m::\u001b[32mstep()\u001b[39m   masks \u001b[34mstats\u001b[39m::step()\n",
      "\u001b[34m•\u001b[39m Use \u001b[32mtidymodels_prefer()\u001b[39m to resolve common conflicts.\n",
      "\n",
      "Updating HTML index of packages in '.Library'\n",
      "\n",
      "Making 'packages.html' ...\n",
      " done\n",
      "\n"
     ]
    }
   ],
   "source": [
    "# Run this cell before continuing\n",
    "library(rvest)\n",
    "library(tidyverse)\n",
    "library(tidymodels)\n",
    "install.packages(\"themis\")\n",
    "library(themis)\n",
    "set.seed(0102)"
   ]
  },
  {
   "cell_type": "markdown",
   "id": "c34df21d-443c-42c0-a437-41d9f1c1e797",
   "metadata": {},
   "source": [
    "### **Loading Data**\n",
    "\n",
    "Our data is loaded through the URL generated through GitHub"
   ]
  },
  {
   "cell_type": "code",
   "execution_count": 2,
   "id": "f69e2a39-239a-43a2-a033-3fbba12184fc",
   "metadata": {
    "tags": []
   },
   "outputs": [
    {
     "name": "stderr",
     "output_type": "stream",
     "text": [
      "\u001b[1mRows: \u001b[22m\u001b[34m403\u001b[39m \u001b[1mColumns: \u001b[22m\u001b[34m19\u001b[39m\n",
      "\u001b[36m──\u001b[39m \u001b[1mColumn specification\u001b[22m \u001b[36m────────────────────────────────────────────────────────\u001b[39m\n",
      "\u001b[1mDelimiter:\u001b[22m \",\"\n",
      "\u001b[31mchr\u001b[39m  (3): location, gender, frame\n",
      "\u001b[32mdbl\u001b[39m (16): id, chol, stab.glu, hdl, ratio, glyhb, age, height, weight, bp.1s,...\n",
      "\n",
      "\u001b[36mℹ\u001b[39m Use `spec()` to retrieve the full column specification for this data.\n",
      "\u001b[36mℹ\u001b[39m Specify the column types or set `show_col_types = FALSE` to quiet this message.\n"
     ]
    },
    {
     "data": {
      "text/html": [
       "<table class=\"dataframe\">\n",
       "<caption>A tibble: 6 × 19</caption>\n",
       "<thead>\n",
       "\t<tr><th scope=col>id</th><th scope=col>chol</th><th scope=col>stab.glu</th><th scope=col>hdl</th><th scope=col>ratio</th><th scope=col>glyhb</th><th scope=col>location</th><th scope=col>age</th><th scope=col>gender</th><th scope=col>height</th><th scope=col>weight</th><th scope=col>frame</th><th scope=col>bp.1s</th><th scope=col>bp.1d</th><th scope=col>bp.2s</th><th scope=col>bp.2d</th><th scope=col>waist</th><th scope=col>hip</th><th scope=col>time.ppn</th></tr>\n",
       "\t<tr><th scope=col>&lt;dbl&gt;</th><th scope=col>&lt;dbl&gt;</th><th scope=col>&lt;dbl&gt;</th><th scope=col>&lt;dbl&gt;</th><th scope=col>&lt;dbl&gt;</th><th scope=col>&lt;dbl&gt;</th><th scope=col>&lt;chr&gt;</th><th scope=col>&lt;dbl&gt;</th><th scope=col>&lt;chr&gt;</th><th scope=col>&lt;dbl&gt;</th><th scope=col>&lt;dbl&gt;</th><th scope=col>&lt;chr&gt;</th><th scope=col>&lt;dbl&gt;</th><th scope=col>&lt;dbl&gt;</th><th scope=col>&lt;dbl&gt;</th><th scope=col>&lt;dbl&gt;</th><th scope=col>&lt;dbl&gt;</th><th scope=col>&lt;dbl&gt;</th><th scope=col>&lt;dbl&gt;</th></tr>\n",
       "</thead>\n",
       "<tbody>\n",
       "\t<tr><td>1000</td><td>203</td><td>82</td><td>56</td><td>3.6</td><td>4.31</td><td>Buckingham</td><td>46</td><td>female</td><td>62</td><td>121</td><td>medium</td><td>118</td><td>59</td><td> NA</td><td>NA</td><td>29</td><td>38</td><td>720</td></tr>\n",
       "\t<tr><td>1001</td><td>165</td><td>97</td><td>24</td><td>6.9</td><td>4.44</td><td>Buckingham</td><td>29</td><td>female</td><td>64</td><td>218</td><td>large </td><td>112</td><td>68</td><td> NA</td><td>NA</td><td>46</td><td>48</td><td>360</td></tr>\n",
       "\t<tr><td>1002</td><td>228</td><td>92</td><td>37</td><td>6.2</td><td>4.64</td><td>Buckingham</td><td>58</td><td>female</td><td>61</td><td>256</td><td>large </td><td>190</td><td>92</td><td>185</td><td>92</td><td>49</td><td>57</td><td>180</td></tr>\n",
       "\t<tr><td>1003</td><td> 78</td><td>93</td><td>12</td><td>6.5</td><td>4.63</td><td>Buckingham</td><td>67</td><td>male  </td><td>67</td><td>119</td><td>large </td><td>110</td><td>50</td><td> NA</td><td>NA</td><td>33</td><td>38</td><td>480</td></tr>\n",
       "\t<tr><td>1005</td><td>249</td><td>90</td><td>28</td><td>8.9</td><td>7.72</td><td>Buckingham</td><td>64</td><td>male  </td><td>68</td><td>183</td><td>medium</td><td>138</td><td>80</td><td> NA</td><td>NA</td><td>44</td><td>41</td><td>300</td></tr>\n",
       "\t<tr><td>1008</td><td>248</td><td>94</td><td>69</td><td>3.6</td><td>4.81</td><td>Buckingham</td><td>34</td><td>male  </td><td>71</td><td>190</td><td>large </td><td>132</td><td>86</td><td> NA</td><td>NA</td><td>36</td><td>42</td><td>195</td></tr>\n",
       "</tbody>\n",
       "</table>\n"
      ],
      "text/latex": [
       "A tibble: 6 × 19\n",
       "\\begin{tabular}{lllllllllllllllllll}\n",
       " id & chol & stab.glu & hdl & ratio & glyhb & location & age & gender & height & weight & frame & bp.1s & bp.1d & bp.2s & bp.2d & waist & hip & time.ppn\\\\\n",
       " <dbl> & <dbl> & <dbl> & <dbl> & <dbl> & <dbl> & <chr> & <dbl> & <chr> & <dbl> & <dbl> & <chr> & <dbl> & <dbl> & <dbl> & <dbl> & <dbl> & <dbl> & <dbl>\\\\\n",
       "\\hline\n",
       "\t 1000 & 203 & 82 & 56 & 3.6 & 4.31 & Buckingham & 46 & female & 62 & 121 & medium & 118 & 59 &  NA & NA & 29 & 38 & 720\\\\\n",
       "\t 1001 & 165 & 97 & 24 & 6.9 & 4.44 & Buckingham & 29 & female & 64 & 218 & large  & 112 & 68 &  NA & NA & 46 & 48 & 360\\\\\n",
       "\t 1002 & 228 & 92 & 37 & 6.2 & 4.64 & Buckingham & 58 & female & 61 & 256 & large  & 190 & 92 & 185 & 92 & 49 & 57 & 180\\\\\n",
       "\t 1003 &  78 & 93 & 12 & 6.5 & 4.63 & Buckingham & 67 & male   & 67 & 119 & large  & 110 & 50 &  NA & NA & 33 & 38 & 480\\\\\n",
       "\t 1005 & 249 & 90 & 28 & 8.9 & 7.72 & Buckingham & 64 & male   & 68 & 183 & medium & 138 & 80 &  NA & NA & 44 & 41 & 300\\\\\n",
       "\t 1008 & 248 & 94 & 69 & 3.6 & 4.81 & Buckingham & 34 & male   & 71 & 190 & large  & 132 & 86 &  NA & NA & 36 & 42 & 195\\\\\n",
       "\\end{tabular}\n"
      ],
      "text/markdown": [
       "\n",
       "A tibble: 6 × 19\n",
       "\n",
       "| id &lt;dbl&gt; | chol &lt;dbl&gt; | stab.glu &lt;dbl&gt; | hdl &lt;dbl&gt; | ratio &lt;dbl&gt; | glyhb &lt;dbl&gt; | location &lt;chr&gt; | age &lt;dbl&gt; | gender &lt;chr&gt; | height &lt;dbl&gt; | weight &lt;dbl&gt; | frame &lt;chr&gt; | bp.1s &lt;dbl&gt; | bp.1d &lt;dbl&gt; | bp.2s &lt;dbl&gt; | bp.2d &lt;dbl&gt; | waist &lt;dbl&gt; | hip &lt;dbl&gt; | time.ppn &lt;dbl&gt; |\n",
       "|---|---|---|---|---|---|---|---|---|---|---|---|---|---|---|---|---|---|---|\n",
       "| 1000 | 203 | 82 | 56 | 3.6 | 4.31 | Buckingham | 46 | female | 62 | 121 | medium | 118 | 59 |  NA | NA | 29 | 38 | 720 |\n",
       "| 1001 | 165 | 97 | 24 | 6.9 | 4.44 | Buckingham | 29 | female | 64 | 218 | large  | 112 | 68 |  NA | NA | 46 | 48 | 360 |\n",
       "| 1002 | 228 | 92 | 37 | 6.2 | 4.64 | Buckingham | 58 | female | 61 | 256 | large  | 190 | 92 | 185 | 92 | 49 | 57 | 180 |\n",
       "| 1003 |  78 | 93 | 12 | 6.5 | 4.63 | Buckingham | 67 | male   | 67 | 119 | large  | 110 | 50 |  NA | NA | 33 | 38 | 480 |\n",
       "| 1005 | 249 | 90 | 28 | 8.9 | 7.72 | Buckingham | 64 | male   | 68 | 183 | medium | 138 | 80 |  NA | NA | 44 | 41 | 300 |\n",
       "| 1008 | 248 | 94 | 69 | 3.6 | 4.81 | Buckingham | 34 | male   | 71 | 190 | large  | 132 | 86 |  NA | NA | 36 | 42 | 195 |\n",
       "\n"
      ],
      "text/plain": [
       "  id   chol stab.glu hdl ratio glyhb location   age gender height weight frame \n",
       "1 1000 203  82       56  3.6   4.31  Buckingham 46  female 62     121    medium\n",
       "2 1001 165  97       24  6.9   4.44  Buckingham 29  female 64     218    large \n",
       "3 1002 228  92       37  6.2   4.64  Buckingham 58  female 61     256    large \n",
       "4 1003  78  93       12  6.5   4.63  Buckingham 67  male   67     119    large \n",
       "5 1005 249  90       28  8.9   7.72  Buckingham 64  male   68     183    medium\n",
       "6 1008 248  94       69  3.6   4.81  Buckingham 34  male   71     190    large \n",
       "  bp.1s bp.1d bp.2s bp.2d waist hip time.ppn\n",
       "1 118   59     NA   NA    29    38  720     \n",
       "2 112   68     NA   NA    46    48  360     \n",
       "3 190   92    185   92    49    57  180     \n",
       "4 110   50     NA   NA    33    38  480     \n",
       "5 138   80     NA   NA    44    41  300     \n",
       "6 132   86     NA   NA    36    42  195     "
      ]
     },
     "metadata": {},
     "output_type": "display_data"
    },
    {
     "data": {
      "text/html": [
       "<table class=\"dataframe\">\n",
       "<caption>A tibble: 6 × 19</caption>\n",
       "<thead>\n",
       "\t<tr><th scope=col>id</th><th scope=col>chol</th><th scope=col>stab.glu</th><th scope=col>hdl</th><th scope=col>ratio</th><th scope=col>glyhb</th><th scope=col>location</th><th scope=col>age</th><th scope=col>gender</th><th scope=col>height</th><th scope=col>weight</th><th scope=col>frame</th><th scope=col>bp.1s</th><th scope=col>bp.1d</th><th scope=col>bp.2s</th><th scope=col>bp.2d</th><th scope=col>waist</th><th scope=col>hip</th><th scope=col>time.ppn</th></tr>\n",
       "\t<tr><th scope=col>&lt;dbl&gt;</th><th scope=col>&lt;dbl&gt;</th><th scope=col>&lt;dbl&gt;</th><th scope=col>&lt;dbl&gt;</th><th scope=col>&lt;dbl&gt;</th><th scope=col>&lt;dbl&gt;</th><th scope=col>&lt;chr&gt;</th><th scope=col>&lt;dbl&gt;</th><th scope=col>&lt;chr&gt;</th><th scope=col>&lt;dbl&gt;</th><th scope=col>&lt;dbl&gt;</th><th scope=col>&lt;chr&gt;</th><th scope=col>&lt;dbl&gt;</th><th scope=col>&lt;dbl&gt;</th><th scope=col>&lt;dbl&gt;</th><th scope=col>&lt;dbl&gt;</th><th scope=col>&lt;dbl&gt;</th><th scope=col>&lt;dbl&gt;</th><th scope=col>&lt;dbl&gt;</th></tr>\n",
       "</thead>\n",
       "<tbody>\n",
       "\t<tr><td>41503</td><td>301</td><td> 90</td><td>118</td><td>2.6</td><td> 4.28</td><td>Louisa</td><td>89</td><td>female</td><td>61</td><td>115</td><td>medium</td><td>218</td><td> 90</td><td>238</td><td> 90</td><td>31</td><td>41</td><td>210</td></tr>\n",
       "\t<tr><td>41506</td><td>296</td><td>369</td><td> 46</td><td>6.4</td><td>16.11</td><td>Louisa</td><td>53</td><td>male  </td><td>69</td><td>173</td><td>medium</td><td>138</td><td> 94</td><td>130</td><td> 94</td><td>35</td><td>39</td><td>210</td></tr>\n",
       "\t<tr><td>41507</td><td>284</td><td> 89</td><td> 54</td><td>5.3</td><td> 4.39</td><td>Louisa</td><td>51</td><td>female</td><td>63</td><td>154</td><td>medium</td><td>140</td><td>100</td><td>146</td><td>102</td><td>32</td><td>43</td><td>180</td></tr>\n",
       "\t<tr><td>41510</td><td>194</td><td>269</td><td> 38</td><td>5.1</td><td>13.63</td><td>Louisa</td><td>29</td><td>female</td><td>69</td><td>167</td><td>small </td><td>120</td><td> 70</td><td> NA</td><td> NA</td><td>33</td><td>40</td><td> 20</td></tr>\n",
       "\t<tr><td>41752</td><td>199</td><td> 76</td><td> 52</td><td>3.8</td><td> 4.49</td><td>Louisa</td><td>41</td><td>female</td><td>63</td><td>197</td><td>medium</td><td>120</td><td> 78</td><td> NA</td><td> NA</td><td>41</td><td>48</td><td>255</td></tr>\n",
       "\t<tr><td>41756</td><td>159</td><td> 88</td><td> 79</td><td>2.0</td><td>   NA</td><td>Louisa</td><td>68</td><td>female</td><td>64</td><td>220</td><td>medium</td><td>100</td><td> 72</td><td> NA</td><td> NA</td><td>49</td><td>58</td><td>900</td></tr>\n",
       "</tbody>\n",
       "</table>\n"
      ],
      "text/latex": [
       "A tibble: 6 × 19\n",
       "\\begin{tabular}{lllllllllllllllllll}\n",
       " id & chol & stab.glu & hdl & ratio & glyhb & location & age & gender & height & weight & frame & bp.1s & bp.1d & bp.2s & bp.2d & waist & hip & time.ppn\\\\\n",
       " <dbl> & <dbl> & <dbl> & <dbl> & <dbl> & <dbl> & <chr> & <dbl> & <chr> & <dbl> & <dbl> & <chr> & <dbl> & <dbl> & <dbl> & <dbl> & <dbl> & <dbl> & <dbl>\\\\\n",
       "\\hline\n",
       "\t 41503 & 301 &  90 & 118 & 2.6 &  4.28 & Louisa & 89 & female & 61 & 115 & medium & 218 &  90 & 238 &  90 & 31 & 41 & 210\\\\\n",
       "\t 41506 & 296 & 369 &  46 & 6.4 & 16.11 & Louisa & 53 & male   & 69 & 173 & medium & 138 &  94 & 130 &  94 & 35 & 39 & 210\\\\\n",
       "\t 41507 & 284 &  89 &  54 & 5.3 &  4.39 & Louisa & 51 & female & 63 & 154 & medium & 140 & 100 & 146 & 102 & 32 & 43 & 180\\\\\n",
       "\t 41510 & 194 & 269 &  38 & 5.1 & 13.63 & Louisa & 29 & female & 69 & 167 & small  & 120 &  70 &  NA &  NA & 33 & 40 &  20\\\\\n",
       "\t 41752 & 199 &  76 &  52 & 3.8 &  4.49 & Louisa & 41 & female & 63 & 197 & medium & 120 &  78 &  NA &  NA & 41 & 48 & 255\\\\\n",
       "\t 41756 & 159 &  88 &  79 & 2.0 &    NA & Louisa & 68 & female & 64 & 220 & medium & 100 &  72 &  NA &  NA & 49 & 58 & 900\\\\\n",
       "\\end{tabular}\n"
      ],
      "text/markdown": [
       "\n",
       "A tibble: 6 × 19\n",
       "\n",
       "| id &lt;dbl&gt; | chol &lt;dbl&gt; | stab.glu &lt;dbl&gt; | hdl &lt;dbl&gt; | ratio &lt;dbl&gt; | glyhb &lt;dbl&gt; | location &lt;chr&gt; | age &lt;dbl&gt; | gender &lt;chr&gt; | height &lt;dbl&gt; | weight &lt;dbl&gt; | frame &lt;chr&gt; | bp.1s &lt;dbl&gt; | bp.1d &lt;dbl&gt; | bp.2s &lt;dbl&gt; | bp.2d &lt;dbl&gt; | waist &lt;dbl&gt; | hip &lt;dbl&gt; | time.ppn &lt;dbl&gt; |\n",
       "|---|---|---|---|---|---|---|---|---|---|---|---|---|---|---|---|---|---|---|\n",
       "| 41503 | 301 |  90 | 118 | 2.6 |  4.28 | Louisa | 89 | female | 61 | 115 | medium | 218 |  90 | 238 |  90 | 31 | 41 | 210 |\n",
       "| 41506 | 296 | 369 |  46 | 6.4 | 16.11 | Louisa | 53 | male   | 69 | 173 | medium | 138 |  94 | 130 |  94 | 35 | 39 | 210 |\n",
       "| 41507 | 284 |  89 |  54 | 5.3 |  4.39 | Louisa | 51 | female | 63 | 154 | medium | 140 | 100 | 146 | 102 | 32 | 43 | 180 |\n",
       "| 41510 | 194 | 269 |  38 | 5.1 | 13.63 | Louisa | 29 | female | 69 | 167 | small  | 120 |  70 |  NA |  NA | 33 | 40 |  20 |\n",
       "| 41752 | 199 |  76 |  52 | 3.8 |  4.49 | Louisa | 41 | female | 63 | 197 | medium | 120 |  78 |  NA |  NA | 41 | 48 | 255 |\n",
       "| 41756 | 159 |  88 |  79 | 2.0 |    NA | Louisa | 68 | female | 64 | 220 | medium | 100 |  72 |  NA |  NA | 49 | 58 | 900 |\n",
       "\n"
      ],
      "text/plain": [
       "  id    chol stab.glu hdl ratio glyhb location age gender height weight frame \n",
       "1 41503 301   90      118 2.6    4.28 Louisa   89  female 61     115    medium\n",
       "2 41506 296  369       46 6.4   16.11 Louisa   53  male   69     173    medium\n",
       "3 41507 284   89       54 5.3    4.39 Louisa   51  female 63     154    medium\n",
       "4 41510 194  269       38 5.1   13.63 Louisa   29  female 69     167    small \n",
       "5 41752 199   76       52 3.8    4.49 Louisa   41  female 63     197    medium\n",
       "6 41756 159   88       79 2.0      NA Louisa   68  female 64     220    medium\n",
       "  bp.1s bp.1d bp.2s bp.2d waist hip time.ppn\n",
       "1 218    90   238    90   31    41  210     \n",
       "2 138    94   130    94   35    39  210     \n",
       "3 140   100   146   102   32    43  180     \n",
       "4 120    70    NA    NA   33    40   20     \n",
       "5 120    78    NA    NA   41    48  255     \n",
       "6 100    72    NA    NA   49    58  900     "
      ]
     },
     "metadata": {},
     "output_type": "display_data"
    }
   ],
   "source": [
    "URL <- 'https://raw.githubusercontent.com/wmma2/group_18_project/main/diabetes.csv'\n",
    "diabetes_data <- read_csv(URL)\n",
    "\n",
    "head(diabetes_data)\n",
    "tail(diabetes_data)"
   ]
  },
  {
   "cell_type": "markdown",
   "id": "6f793bdc-107b-4083-b84c-0ece7306dfae",
   "metadata": {
    "tags": []
   },
   "source": [
    "### **Wrangling Data**\n",
    "\n",
    "The dataset is already tidy. \n",
    "\n",
    "To make it suitable for our analysis, we create 2 new categorical columns: a categorical **diagnosis** column and a **BMI** (in *kg/m^2*) column. \n",
    "\n",
    "- The **diagnosis** column will use data from the `glyhb` (Glycosylated Hemoglobin) column which corresponds to Hemoglobin A1c levels. Rows that are greater than 6.5 will be 'yes' in the diagnosis column and rows that are less than 6.5 will be 'no'.\n",
    "\n",
    "- The **BMI** column will use data from the `weight` and `height` columns. BMI will be calculated using the standard formula (Fehring, 2007): BMI = (`weight` $\\times$ 0.45359237) / (`height` $\\times$ 0.0254)\n",
    "\n",
    "Then, we filter out the rows with missing values as they are not significant to our dataset, and select the necessary columns: **stab.glu**, **BMI** and **diagnosis**. We rename our wrangled data to `tidy_diabetes`.\n",
    "\n",
    "The data is now wrangled and suitable for our analysis. "
   ]
  },
  {
   "cell_type": "code",
   "execution_count": 6,
   "id": "1d704b92-177a-4eb1-87bc-bab769bbb78c",
   "metadata": {
    "tags": []
   },
   "outputs": [
    {
     "data": {
      "text/html": [
       "<table class=\"dataframe\">\n",
       "<caption>A tibble: 6 × 3</caption>\n",
       "<thead>\n",
       "\t<tr><th scope=col>stab.glu</th><th scope=col>BMI</th><th scope=col>diagnosis</th></tr>\n",
       "\t<tr><th scope=col>&lt;dbl&gt;</th><th scope=col>&lt;dbl&gt;</th><th scope=col>&lt;fct&gt;</th></tr>\n",
       "</thead>\n",
       "<tbody>\n",
       "\t<tr><td>82</td><td>22.13096</td><td>no </td></tr>\n",
       "\t<tr><td>97</td><td>37.41923</td><td>no </td></tr>\n",
       "\t<tr><td>92</td><td>48.37028</td><td>no </td></tr>\n",
       "\t<tr><td>93</td><td>18.63784</td><td>no </td></tr>\n",
       "\t<tr><td>90</td><td>27.82477</td><td>yes</td></tr>\n",
       "\t<tr><td>94</td><td>26.49935</td><td>no </td></tr>\n",
       "</tbody>\n",
       "</table>\n"
      ],
      "text/latex": [
       "A tibble: 6 × 3\n",
       "\\begin{tabular}{lll}\n",
       " stab.glu & BMI & diagnosis\\\\\n",
       " <dbl> & <dbl> & <fct>\\\\\n",
       "\\hline\n",
       "\t 82 & 22.13096 & no \\\\\n",
       "\t 97 & 37.41923 & no \\\\\n",
       "\t 92 & 48.37028 & no \\\\\n",
       "\t 93 & 18.63784 & no \\\\\n",
       "\t 90 & 27.82477 & yes\\\\\n",
       "\t 94 & 26.49935 & no \\\\\n",
       "\\end{tabular}\n"
      ],
      "text/markdown": [
       "\n",
       "A tibble: 6 × 3\n",
       "\n",
       "| stab.glu &lt;dbl&gt; | BMI &lt;dbl&gt; | diagnosis &lt;fct&gt; |\n",
       "|---|---|---|\n",
       "| 82 | 22.13096 | no  |\n",
       "| 97 | 37.41923 | no  |\n",
       "| 92 | 48.37028 | no  |\n",
       "| 93 | 18.63784 | no  |\n",
       "| 90 | 27.82477 | yes |\n",
       "| 94 | 26.49935 | no  |\n",
       "\n"
      ],
      "text/plain": [
       "  stab.glu BMI      diagnosis\n",
       "1 82       22.13096 no       \n",
       "2 97       37.41923 no       \n",
       "3 92       48.37028 no       \n",
       "4 93       18.63784 no       \n",
       "5 90       27.82477 yes      \n",
       "6 94       26.49935 no       "
      ]
     },
     "metadata": {},
     "output_type": "display_data"
    }
   ],
   "source": [
    "tidy_diabetes <- diabetes_data |>\n",
    "\n",
    "#Create 'diagnosis' column\n",
    "        mutate(diagnosis = if_else(glyhb >= 6.5, \"yes\", \"no\")) |>\n",
    "        mutate(diagnosis = as_factor(diagnosis))|>\n",
    "\n",
    "#Create 'BMI' column\n",
    "        mutate(height_m = height*0.0254, \n",
    "               weight_kg = weight*0.45359237,\n",
    "               BMI = weight_kg/height_m^2) |>\n",
    "\n",
    "#Filter missing values\n",
    "        filter(!is.na(glyhb + BMI + stab.glu)) |>\n",
    "\n",
    "#Rename stab.glu\n",
    "        mutate(Hemoglobin_A1c = stab.glu) |>\n",
    "\n",
    "#Select necessary columns\n",
    "        select(stab.glu, BMI, diagnosis)\n",
    "               \n",
    "head(tidy_diabetes)"
   ]
  },
  {
   "cell_type": "code",
   "execution_count": null,
   "id": "0d20a12e-7ee6-402e-b930-86811427bb9e",
   "metadata": {},
   "outputs": [],
   "source": []
  }
 ],
 "metadata": {
  "kernelspec": {
   "display_name": "R",
   "language": "R",
   "name": "ir"
  },
  "language_info": {
   "codemirror_mode": "r",
   "file_extension": ".r",
   "mimetype": "text/x-r-source",
   "name": "R",
   "pygments_lexer": "r",
   "version": "4.2.2"
  }
 },
 "nbformat": 4,
 "nbformat_minor": 5
}
