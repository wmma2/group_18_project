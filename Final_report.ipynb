{
 "cells": [
  {
   "cell_type": "markdown",
   "id": "e50d159f-48a5-44e5-a7ef-77871666c284",
   "metadata": {
    "tags": []
   },
   "source": [
    "<font size=\"8\">**Final Report**"
   ]
  },
  {
   "cell_type": "markdown",
   "id": "27c5c945-6ddb-402e-a007-b2c90d94e607",
   "metadata": {},
   "source": [
    "# **Introduction**\n",
    "\n",
    "### What is Diabetes?\n",
    "\n",
    "Diabetes is a metabolic condition where the body is unable to regulate blood sugar levels effectively (American Diabetes Association, 2013). It is a common disease, with 38.5% of men and 32.8% of women in the US at risk of the condition as reported in a medical study (Gray et al., 2015). There are 2 types of diabetes: Type I and Type II. Type I diabetes is when the body doesn’t produce insulin, a blood sugar-regulating hormone, and is therefore unable to regulate blood sugar levels.  Type I affects around 5-10% of those with diabetes. On the contrary, Type II diabetes is when the body either doesn’t produce enough insulin or doesn’t use it effectively and this accounts for around 90-95% of those with diabetes (American Diabetes Association, 2013). \n",
    "\n",
    "\n",
    "### Diagnosing Diabetes & Question\n",
    "\n",
    "The standard for diabetes diagnosis is dictated by ones' blood test results that show Hemoglobin A1c (a component of blood) levels ≥ 6.5 (American Diabetes Association (2013), Patel et al., 2023). Higher blood Glucose levels are also typically shown to be associated with diabetes (American Diabetes Association (2013), Patel et al., 2023). Interestingly, a study conducted on factors associated with diabetes strongly suggest that Body Mass Index (BMI) is associated with diabetes. The results suggested that those with even moderately higher BMI's are associated with an increased risk of developing diabetes (Gray et al., 2015., Patel et al., 2023). Thus, for this project, we aim to answer the question: **Can we predict a patient's diabetes diagnosis based on their blood glucose level (mg/dL) and BMI (kg/m2)?**\n",
    "    \n",
    "### Dataset\n",
    "\n",
    "The dataset we will be using for this project contains demographic and laboratory variables on African-American patients including height, weight, gender, age, Hemoglobin A1c level, blood pressure etc. The dataset was initially compiled by Mohamadreza Momeni to use for machine learning models in diabetes diagnosis.\n",
    "\n",
    "### Biases in Diabetes Literature Review\n",
    "\n",
    "The motivation for using this dataset is to encourage equity in medical research by using data from a racially diverse sample. A 2023 study on the diagnosis of diabetes has found that current literature on the diagnosis of diabetes is biased as a large number of diabetes diagnosis models are based on data collected largely from non-Hispanic Whites. This implicates a dangerous overdiagnosis of diabetes among non-Hispanic Whites *and* an underdiagnosis of diabetes among non-Hispanic Blacks (Cronjé et al., 2023). Thus, we have chosen to conduct our project using this dataset consisting of African-American participants to create a model that furthers the goal of inclusion and equity in healthcare. \n"
   ]
  },
  {
   "cell_type": "markdown",
   "id": "49f95ccf-05d7-4e30-b8b2-d7776b4abe8c",
   "metadata": {
    "tags": []
   },
   "source": [
    "# **Methods & Results** \n",
    "    \n",
    "-- Description of methods -- write this after we've done all the code --\n",
    "\n",
    "Please run the following cell to load the library packages necessary\n"
   ]
  },
  {
   "cell_type": "code",
   "execution_count": null,
   "id": "873ce2d6-403e-41f9-995c-2da1abf01208",
   "metadata": {
    "tags": []
   },
   "outputs": [
    {
     "name": "stderr",
     "output_type": "stream",
     "text": [
      "── \u001b[1mAttaching packages\u001b[22m ─────────────────────────────────────── tidyverse 1.3.2 ──\n",
      "\u001b[32m✔\u001b[39m \u001b[34mggplot2\u001b[39m 3.4.2     \u001b[32m✔\u001b[39m \u001b[34mpurrr  \u001b[39m 1.0.1\n",
      "\u001b[32m✔\u001b[39m \u001b[34mtibble \u001b[39m 3.2.1     \u001b[32m✔\u001b[39m \u001b[34mdplyr  \u001b[39m 1.1.1\n",
      "\u001b[32m✔\u001b[39m \u001b[34mtidyr  \u001b[39m 1.3.0     \u001b[32m✔\u001b[39m \u001b[34mstringr\u001b[39m 1.5.0\n",
      "\u001b[32m✔\u001b[39m \u001b[34mreadr  \u001b[39m 2.1.3     \u001b[32m✔\u001b[39m \u001b[34mforcats\u001b[39m 0.5.2\n",
      "── \u001b[1mConflicts\u001b[22m ────────────────────────────────────────── tidyverse_conflicts() ──\n",
      "\u001b[31m✖\u001b[39m \u001b[34mdplyr\u001b[39m::\u001b[32mfilter()\u001b[39m         masks \u001b[34mstats\u001b[39m::filter()\n",
      "\u001b[31m✖\u001b[39m \u001b[34mreadr\u001b[39m::\u001b[32mguess_encoding()\u001b[39m masks \u001b[34mrvest\u001b[39m::guess_encoding()\n",
      "\u001b[31m✖\u001b[39m \u001b[34mdplyr\u001b[39m::\u001b[32mlag()\u001b[39m            masks \u001b[34mstats\u001b[39m::lag()\n",
      "── \u001b[1mAttaching packages\u001b[22m ────────────────────────────────────── tidymodels 1.0.0 ──\n",
      "\n",
      "\u001b[32m✔\u001b[39m \u001b[34mbroom       \u001b[39m 1.0.2     \u001b[32m✔\u001b[39m \u001b[34mrsample     \u001b[39m 1.1.1\n",
      "\u001b[32m✔\u001b[39m \u001b[34mdials       \u001b[39m 1.1.0     \u001b[32m✔\u001b[39m \u001b[34mtune        \u001b[39m 1.0.1\n",
      "\u001b[32m✔\u001b[39m \u001b[34minfer       \u001b[39m 1.0.4     \u001b[32m✔\u001b[39m \u001b[34mworkflows   \u001b[39m 1.1.2\n",
      "\u001b[32m✔\u001b[39m \u001b[34mmodeldata   \u001b[39m 1.0.1     \u001b[32m✔\u001b[39m \u001b[34mworkflowsets\u001b[39m 1.0.0\n",
      "\u001b[32m✔\u001b[39m \u001b[34mparsnip     \u001b[39m 1.0.3     \u001b[32m✔\u001b[39m \u001b[34myardstick   \u001b[39m 1.1.0\n",
      "\u001b[32m✔\u001b[39m \u001b[34mrecipes     \u001b[39m 1.0.4     \n",
      "\n",
      "── \u001b[1mConflicts\u001b[22m ───────────────────────────────────────── tidymodels_conflicts() ──\n",
      "\u001b[31m✖\u001b[39m \u001b[34mscales\u001b[39m::\u001b[32mdiscard()\u001b[39m masks \u001b[34mpurrr\u001b[39m::discard()\n",
      "\u001b[31m✖\u001b[39m \u001b[34mdplyr\u001b[39m::\u001b[32mfilter()\u001b[39m   masks \u001b[34mstats\u001b[39m::filter()\n",
      "\u001b[31m✖\u001b[39m \u001b[34mrecipes\u001b[39m::\u001b[32mfixed()\u001b[39m  masks \u001b[34mstringr\u001b[39m::fixed()\n",
      "\u001b[31m✖\u001b[39m \u001b[34mdplyr\u001b[39m::\u001b[32mlag()\u001b[39m      masks \u001b[34mstats\u001b[39m::lag()\n",
      "\u001b[31m✖\u001b[39m \u001b[34myardstick\u001b[39m::\u001b[32mspec()\u001b[39m masks \u001b[34mreadr\u001b[39m::spec()\n",
      "\u001b[31m✖\u001b[39m \u001b[34mrecipes\u001b[39m::\u001b[32mstep()\u001b[39m   masks \u001b[34mstats\u001b[39m::step()\n",
      "\u001b[34m•\u001b[39m Dig deeper into tidy modeling with R at \u001b[32mhttps://www.tmwr.org\u001b[39m\n",
      "\n"
     ]
    }
   ],
   "source": [
    "# Run this cell before continuing\n",
    "library(rvest)\n",
    "library(tidyverse)\n",
    "library(tidymodels)\n",
    "library(repr)\n",
    "install.packages(\"themis\")\n",
    "library(themis)\n",
    "install.packages('kknn')\n",
    "library(kknn)\n",
    "source('tests.R')\n",
    "source('cleanup.R')\n",
    "set.seed(2023)"
   ]
  },
  {
   "cell_type": "markdown",
   "id": "c34df21d-443c-42c0-a437-41d9f1c1e797",
   "metadata": {},
   "source": [
    "### **1) Load Data**\n",
    "\n",
    "Our data is loaded from the URL generated through GitHub"
   ]
  },
  {
   "cell_type": "code",
   "execution_count": null,
   "id": "f69e2a39-239a-43a2-a033-3fbba12184fc",
   "metadata": {
    "tags": []
   },
   "outputs": [],
   "source": [
    "#Read data \n",
    "URL <- 'https://raw.githubusercontent.com/wmma2/group_18_project/main/diabetes.csv'\n",
    "diabetes_data <- read_csv(URL)\n",
    "\n",
    "#Check all the available columns\n",
    "glimpse(diabetes_data)"
   ]
  },
  {
   "cell_type": "markdown",
   "id": "6f793bdc-107b-4083-b84c-0ece7306dfae",
   "metadata": {
    "tags": []
   },
   "source": [
    "### **2) Clean & Wrangle Data**\n",
    "\n",
    "The dataset is already tidy. \n",
    "\n",
    "To prepare for our analysis, we will need to create 2 new columns: **diagnosis** (our categorical column) and **BMI** (in *kg/m^2*) (one of our predictor variables). \n",
    "\n",
    "- The **diagnosis** column will use data from the `glyhb` (Glycosylated Hemoglobin) column which corresponds to Hemoglobin A1c levels to indicate whether a person has diabetes or not. Rows that are greater or equal to 6.5 will be 'yes' and rows that are less than 6.5 will be 'no'.\n",
    "\n",
    "- The **BMI** column will use data from the `weight` and `height` columns. BMI will be calculated using the standard formula (Fehring, 2007): BMI = (`weight` $\\times$ 0.45359237) / (`height` $\\times$ 0.0254)\n",
    "\n",
    "Additionally, we can filter out the rows with missing values as they are not significant to our dataset.\n",
    "\n",
    "Finally, we will select the necessary columns: `BMI`, `diagnosis` and `stab.glu` as we are interested in the whether the factors `stab.glu` (stable blood glucose levels) and `BMI` are related to the diabetes diagnosis.\n",
    "\n",
    "Our clean and wrangled data will be assigned to a new tibble called `tidy_diabetes`."
   ]
  },
  {
   "cell_type": "code",
   "execution_count": null,
   "id": "1d704b92-177a-4eb1-87bc-bab769bbb78c",
   "metadata": {
    "tags": []
   },
   "outputs": [],
   "source": [
    "tidy_diabetes <- diabetes_data |>\n",
    "\n",
    "#Create 'diagnosis' column\n",
    "        mutate(diagnosis = if_else(glyhb >= 6.5, \"yes\", \"no\")) |>\n",
    "        mutate(diagnosis = as_factor(diagnosis))|>\n",
    "\n",
    "#Create 'BMI' column\n",
    "        mutate(height_m = height*0.0254, \n",
    "               weight_kg = weight*0.45359237,\n",
    "               BMI = weight_kg/height_m^2) |>\n",
    "\n",
    "#Filter missing values\n",
    "        filter(!is.na(glyhb + BMI + stab.glu)) |>\n",
    "\n",
    "#Select necessary columns\n",
    "        select(stab.glu, BMI, diagnosis)\n",
    "               \n",
    "head(tidy_diabetes)"
   ]
  },
  {
   "cell_type": "markdown",
   "id": "9b1de289-fb17-4f21-8d2f-1cc28f8e5870",
   "metadata": {
    "tags": []
   },
   "source": [
    "With the clean and wrangled data above, we can now continue with our data analysis."
   ]
  },
  {
   "cell_type": "markdown",
   "id": "1811f32d-dc24-4814-8ca2-465ab2ac7a74",
   "metadata": {},
   "source": [
    "### **3) Exploratory Data Analysis**\n",
    "\n",
    "#### **3.1) Split data**\n",
    "\n",
    "First we split the `tidy_diabetes` dataset into training (`diabetes_train`) and testing (`diabetes_test`) data so that we can continue exploratory data analysis with the training dataset. We have chosen to have 75/25 split with 75% training set and 25% in the testing set.\n",
    "\n",
    "We do not need to check for missing values as we have already filtered them out in the previous step. "
   ]
  },
  {
   "cell_type": "code",
   "execution_count": null,
   "id": "a9de6799-370a-4dc6-9f4c-db2feff05ac0",
   "metadata": {
    "tags": []
   },
   "outputs": [],
   "source": [
    "set.seed(2023)\n",
    "\n",
    "diabetes_split <- initial_split(tidy_diabetes, prop = 0.75 , strata = diagnosis)\n",
    "diabetes_train <- training(diabetes_split)\n",
    "diabetes_test <- testing(diabetes_split)"
   ]
  },
  {
   "cell_type": "markdown",
   "id": "83654720-88c3-47ee-941a-70a93af7cb04",
   "metadata": {},
   "source": [
    "#### **3.2) Uneven data proportion**\n",
    "\n",
    "As we were looking at our data on Kaggle, it seemed that there was a lot more rows with those who don't have diabetes than those who do. To check for this we will use the `count` for the `diagnosis` column."
   ]
  },
  {
   "cell_type": "code",
   "execution_count": null,
   "id": "8e8a7308-16ae-424d-8116-8a3eeef8b474",
   "metadata": {
    "tags": []
   },
   "outputs": [],
   "source": [
    "train_count <- tidy_diabetes|>\n",
    "    group_by(diagnosis)|>\n",
    "    summarize(count = n()) "
   ]
  },
  {
   "cell_type": "markdown",
   "id": "e4590a6d-8fd4-483e-b4f6-756f8693ca4d",
   "metadata": {},
   "source": [
    "#### **3.3) Distributions of BMI & stab.glu**\n",
    "\n",
    "Next, we calculate the means of the variables `BMI` and `stab.glu` to check if will need to standardize our data."
   ]
  },
  {
   "cell_type": "code",
   "execution_count": null,
   "id": "fd33e9f0-9744-411e-8a8e-676e99e82bcc",
   "metadata": {
    "tags": []
   },
   "outputs": [],
   "source": [
    "train_mean <- tidy_diabetes|>\n",
    "    summarize(stab.glu_mean = mean(stab.glu),\n",
    "              BMI_mean = mean(BMI))"
   ]
  },
  {
   "cell_type": "markdown",
   "id": "8943ee66-635a-4609-9d94-7fd823632de6",
   "metadata": {},
   "source": [
    "#### **3.4) Count missing Data**\n",
    "\n",
    "Finally, we count the number of missing values in our data to see if we need to remove any missing data."
   ]
  },
  {
   "cell_type": "code",
   "execution_count": null,
   "id": "0a218450-9189-4fbc-a641-077c801a4e4d",
   "metadata": {
    "tags": []
   },
   "outputs": [],
   "source": [
    "train_NAs <- sum(is.na(tidy_diabetes))"
   ]
  },
  {
   "cell_type": "markdown",
   "id": "10fb109f-9f59-4262-9536-1d7c65c29d13",
   "metadata": {},
   "source": [
    "#### **Summary of exploratory data analysis**"
   ]
  },
  {
   "cell_type": "code",
   "execution_count": null,
   "id": "ca2fd257-36a9-4d34-9403-a6a357f1e5dd",
   "metadata": {
    "tags": []
   },
   "outputs": [],
   "source": [
    "#run this cell\n",
    "train_count\n",
    "train_mean\n",
    "train_NAs"
   ]
  },
  {
   "cell_type": "markdown",
   "id": "ce55290f-c222-46a9-af56-6b1244411854",
   "metadata": {},
   "source": [
    "From `train_count`, we see that our data is uneven and needs to be upscaled when training our algorithm. \n",
    "\n",
    "From `train_mean`, we see that the means stab.glu and BMI vary by quite a bit, thus we will need to standardize the data.\n",
    "\n",
    "We can also see that our dataset has no missing values, meaning we do not need to remove any values."
   ]
  },
  {
   "cell_type": "markdown",
   "id": "41f600a9-2de7-4b89-bcc8-cb30672f71c0",
   "metadata": {},
   "source": [
    "### **4) Visualization**\n",
    "\n",
    "We will now plot blood glucose levels `stab.glu` and `BMI` to check distribution of our predictors, as well as see if there is any obvious correlation. We will also color code the data points based on their `diagnosis` label to see check for patterns."
   ]
  },
  {
   "cell_type": "code",
   "execution_count": null,
   "id": "f553e9c9-7a11-4dd9-8177-69e9851b76b3",
   "metadata": {
    "tags": []
   },
   "outputs": [],
   "source": [
    "#run this cell \n",
    "options(repr.plot.width = 10, repr.plot.height = 5)\n",
    "\n",
    "train_plot <- diabetes_train |>\n",
    "    ggplot(aes(x = stab.glu, y = BMI, colour = diagnosis)) +\n",
    "    geom_point() +\n",
    "    labs(x = \"Blood glucose (mg/dl)\", y = \"Body Mass Index (kg/m^2)\", colour = \"Diabetes diagnosis?\") +\n",
    "    ggtitle('Diabetes diagnosis in relation to Blood Glucose and BMI') +\n",
    "    theme(text=element_text(size = 15))\n",
    "\n",
    "train_plot"
   ]
  },
  {
   "cell_type": "markdown",
   "id": "c5ba881a-1782-4399-9347-bea4aec9d01f",
   "metadata": {},
   "source": [
    "From the plot above, we can see that a lower blood glucose level seems to be associated with no diabetes. The trend with BMI is harder to tell as both diagnosis labels appear to fall in the same range.\n",
    "\n",
    "From the visualization, we can also see that the range of blood glucose `stab.glu` is on a much larger scale than `BMI`, meaning it will have a greater effect on our k-NN model. To counter this, we will standardize the predictors in our data analysis."
   ]
  },
  {
   "cell_type": "markdown",
   "id": "62b8af53-225a-4401-a6fe-bb4099f5dbce",
   "metadata": {},
   "source": [
    "### **5) Data Analysis**\n",
    "\n",
    "Insert description..."
   ]
  },
  {
   "cell_type": "markdown",
   "id": "1e76b8c8-68d3-48c2-b7c7-059eadf49e99",
   "metadata": {
    "tags": []
   },
   "source": [
    "#### **5.1) Upsampling uneven data**"
   ]
  },
  {
   "cell_type": "code",
   "execution_count": null,
   "id": "c33a5249-7255-4dc6-a693-4a176a9e88da",
   "metadata": {
    "tags": []
   },
   "outputs": [],
   "source": [
    "\n",
    "# ups_recipe <- recipe(diagnosis~., data = tidy_diabetes) |>\n",
    "#     step_upsample(diagnosis, over_ratio = 1, skip = FALSE) |>\n",
    "#     step_scale(all_predictors()) |>\n",
    "#     step_center(all_predictors()) |>\n",
    "#     prep()\n",
    "# even_data <- bake(ups_recipe, tidy_diabetes)\n",
    "\n",
    "# even_count<- even_data |>\n",
    "#     group_by(diagnosis)|>\n",
    "#     summarize (count = n())\n",
    "\n",
    "# even_count"
   ]
  },
  {
   "cell_type": "markdown",
   "id": "1265918f-57cc-4324-b736-60cb9fa286fb",
   "metadata": {},
   "source": [
    "#### **5.2) Split data: training (75%), testing (25%)**"
   ]
  },
  {
   "cell_type": "code",
   "execution_count": null,
   "id": "1f8f651b-4432-47d4-9b8e-f4bf4246cc32",
   "metadata": {
    "tags": []
   },
   "outputs": [],
   "source": [
    "\n",
    "\n",
    "# diabetes_split <- initial_split(even_data, prop = 0.75, strata = diagnosis)\n",
    "# diabetes_train <- training(diabetes_split)\n",
    "# diabetes_test <- testing(diabetes_split)\n",
    "\n",
    "# head(diabetes_train)\n",
    "# head(diabetes_test)"
   ]
  },
  {
   "cell_type": "code",
   "execution_count": null,
   "id": "d2621073-e037-4bfd-962b-6d41c40ef706",
   "metadata": {
    "tags": []
   },
   "outputs": [],
   "source": [
    "\n",
    "\n",
    "#Create a recipe to upscale and standardize our training data\n",
    "\n",
    "ups_recipe <- recipe(diagnosis~., data = diabetes_train) |>\n",
    "    step_upsample(diagnosis, over_ratio = 1, skip = FALSE) |>\n",
    "    # step_scale(all_predictors()) |>\n",
    "    # step_center(all_predictors()) |>\n",
    "    prep()\n",
    "diabetes_even_train <- bake(ups_recipe, diabetes_train)\n",
    "                                         \n",
    "#Check count\n",
    "\n",
    "check_count<- diabetes_even_train |>\n",
    "    group_by(diagnosis)|>\n",
    "    summarize (count = n())\n",
    "\n",
    "check_count"
   ]
  },
  {
   "cell_type": "markdown",
   "id": "b9be31b8-346e-4b2d-a607-466d10743794",
   "metadata": {
    "tags": []
   },
   "source": [
    "#### **5.2) Creating cross-validation sets**"
   ]
  },
  {
   "cell_type": "code",
   "execution_count": null,
   "id": "761d6b4b-3b3a-4410-a83d-2ee0f272ab6d",
   "metadata": {
    "tags": []
   },
   "outputs": [],
   "source": [
    "#Apply cross-validation\n",
    "set.seed(2023)\n",
    "\n",
    "diabetes_vfold <- vfold_cv(diabetes_even_train, v = 5, strata = diagnosis)\n",
    "\n",
    "# diabetes_recipe <- recipe(diagnosis ~ stab.glu + BMI,  data = even_data)\n",
    "\n"
   ]
  },
  {
   "cell_type": "markdown",
   "id": "cc03f50d-94fc-4b91-a46a-4e54ba89ebbe",
   "metadata": {},
   "source": [
    "#### **5.3) Tuning K**"
   ]
  },
  {
   "cell_type": "code",
   "execution_count": null,
   "id": "99bd7c73-660b-44f2-be58-407d25ff3709",
   "metadata": {
    "tags": []
   },
   "outputs": [],
   "source": [
    "#Tuning\n",
    "\n",
    "\n",
    "knn_tune <- nearest_neighbor(weight_func = 'rectangular', neighbors = tune()) |>\n",
    "    set_engine('kknn') |>\n",
    "    set_mode('classification')\n",
    "knn_tune\n"
   ]
  },
  {
   "cell_type": "markdown",
   "id": "beb9ffd2-6a93-430d-93c0-204d8b387a7c",
   "metadata": {},
   "source": [
    "#### **5.4) Recipe**"
   ]
  },
  {
   "cell_type": "code",
   "execution_count": null,
   "id": "12da52bc-22eb-410c-85d8-ad6a751db184",
   "metadata": {
    "tags": []
   },
   "outputs": [],
   "source": [
    "\n",
    "#scaled data \n",
    "diabetes_recipe <- recipe(diagnosis ~ stab.glu + BMI, data = diabetes_even_train) |>\n",
    "    step_scale(all_predictors()) |>\n",
    "    step_center(all_predictors())\n",
    "\n",
    "diabetes_recipe"
   ]
  },
  {
   "cell_type": "code",
   "execution_count": null,
   "id": "948a8c10-418e-4c37-a003-f1f233583c90",
   "metadata": {
    "tags": []
   },
   "outputs": [],
   "source": [
    "\n",
    "knn_results <- workflow() |>\n",
    "       add_recipe(diabetes_recipe) |>\n",
    "       add_model(knn_tune) |>\n",
    "       tune_grid(resamples = diabetes_vfold, grid = 10) |>\n",
    "       collect_metrics()\n",
    "knn_results"
   ]
  },
  {
   "cell_type": "code",
   "execution_count": null,
   "id": "61e403c3-27db-428a-b62b-607550cc39bf",
   "metadata": {
    "tags": []
   },
   "outputs": [],
   "source": [
    "#Filter for accuracies\n",
    "accuracies <- knn_results |> \n",
    "      filter(.metric == 'accuracy')\n",
    "\n",
    "#plot best K\n",
    "accuracy_versus_k <- ggplot(accuracies, aes(x = neighbors, y = mean))+\n",
    "      geom_point() +\n",
    "      geom_line() +\n",
    "      labs(x = \"Neighbors\", y = \"Accuracy Estimate\") +\n",
    "      scale_x_continuous(breaks = seq(0, 14, by = 1)) +  # adjusting the x-axis\n",
    "      scale_y_continuous(limits = c(0.8, 1.0)) # adjusting the y-axis\n",
    "accuracy_versus_k\n"
   ]
  },
  {
   "cell_type": "code",
   "execution_count": null,
   "id": "2827ea18-cabb-409c-b5dc-9e31b2c4a8c8",
   "metadata": {
    "tags": []
   },
   "outputs": [],
   "source": [
    "\n",
    "#set k\n",
    "knn_spec_optimal <- nearest_neighbor(weight_func = 'rectangular', neighbors = 10) |>\n",
    "    set_engine('kknn') |>\n",
    "    set_mode('classification')\n",
    "knn_spec_optimal\n",
    "\n",
    "#results\n",
    "knn_results_optimal <- workflow() |>\n",
    "       add_recipe(diabetes_recipe) |>\n",
    "       add_model(knn_spec_optimal) |>\n",
    "       tune_grid(resamples = diabetes_vfold, grid = 10) |>\n",
    "       collect_metrics()\n",
    "knn_results_optimal"
   ]
  },
  {
   "cell_type": "markdown",
   "id": "5bc41b81-364a-4385-92a0-42c2f65f32f4",
   "metadata": {},
   "source": [
    "#### **5.4) Create K-NN classifier and train the classifier, k=3**"
   ]
  },
  {
   "cell_type": "code",
   "execution_count": null,
   "id": "d7f25d05-8387-47bc-9de6-fb38ea0f5f8f",
   "metadata": {
    "tags": []
   },
   "outputs": [],
   "source": [
    "#Creating k-NN classifier\n",
    "# knn_spec <- nearest_neighbor(weight_func = 'rectangular', neighbors = 9) |>\n",
    "#     set_engine('kknn') |>\n",
    "#     set_mode('classification')\n",
    "\n",
    "#Training the classifier\n",
    "diabetes_workflow <- workflow() |>\n",
    "    add_recipe(diabetes_recipe) |>\n",
    "    add_model(knn_spec_optimal) |>\n",
    "    fit(data = diabetes_train)\n",
    "\n",
    "diabetes_workflow"
   ]
  },
  {
   "cell_type": "markdown",
   "id": "6c8dceda-1275-4bb4-be9a-daa8f8472a7f",
   "metadata": {},
   "source": [
    "#### **5.5) Fit Data**"
   ]
  },
  {
   "cell_type": "code",
   "execution_count": null,
   "id": "1f1cccdf-24ce-48f0-90c6-f13468165709",
   "metadata": {
    "tags": []
   },
   "outputs": [],
   "source": [
    "diabetes_fit <- knn_spec_optimal |>\n",
    "    fit(diagnosis ~ BMI+stab.glu, data = diabetes_train)\n",
    "    \n",
    "diabetes_fit"
   ]
  },
  {
   "cell_type": "code",
   "execution_count": null,
   "id": "ddf98ed6-1d7f-42ea-b54d-0be303be780d",
   "metadata": {
    "tags": []
   },
   "outputs": [],
   "source": [
    "#predictions\n",
    "\n",
    "diabetes_test_predictions <- predict(diabetes_fit, diabetes_test) |>\n",
    "        bind_cols(diabetes_test)\n",
    "\n",
    "head(diabetes_test_predictions)\n",
    "tail(diabetes_test_predictions)"
   ]
  },
  {
   "cell_type": "markdown",
   "id": "03ee4a5c-c941-4fde-9bca-46c4fb3db955",
   "metadata": {
    "tags": []
   },
   "source": [
    "diabetes_metrics <- diabetes_test_predictions |>\n",
    "    metrics(truth = diagnosis, estimate = .pred_class) |>\n",
    "    filter(.metric == 'accuracy')\n",
    "diabetes_metrics"
   ]
  },
  {
   "cell_type": "code",
   "execution_count": null,
   "id": "b389e9c8-e1f1-44bf-a007-41889f8b38c5",
   "metadata": {
    "tags": []
   },
   "outputs": [],
   "source": [
    "#matrix\n",
    "diabetes_mat <- diabetes_test_predictions |>\n",
    "    conf_mat(truth = diagnosis, estimate = .pred_class)\n",
    "diabetes_mat"
   ]
  },
  {
   "cell_type": "markdown",
   "id": "163ae21b-31d6-48f5-92ae-dfef46526eae",
   "metadata": {},
   "source": [
    "## **Discussion**"
   ]
  },
  {
   "cell_type": "markdown",
   "id": "fac163b4-a200-404e-b403-603b8d677d4f",
   "metadata": {},
   "source": [
    "summarize what you found\n",
    "discuss whether this is what you expected to find?\n",
    "discuss what impact could such findings have?\n",
    "discuss what future questions could this lead to?"
   ]
  },
  {
   "cell_type": "markdown",
   "id": "6ccd177d-62c2-4c94-bae0-7534521ca938",
   "metadata": {
    "tags": []
   },
   "source": [
    "## References\n",
    "\n",
    "<font size=\"2\">American Diabetes Association. (2013). Diagnosis and Classification of Diabetes Mellitus. *Diabetes Care, 37(1)*, S81–S90. https://doi.org/10.2337/dc14-S081\n",
    "\n",
    "<font size=\"2\">Cronjé, Héléne T., Katsiferis, Aleandros, Elsenburg, Leonie K., Andersen, Theo O., Rod, Naja H. Varga, Tibor V. (2023). Assessing racial bias in type 2 diabetes risk prediction algorithms. *PLOS Glob Public Health. 2023; 3(5)*, e0001556. https://doi.org/10.1371/journal.pgph.0001556\n",
    "    \n",
    "<font size=\"2\">Fehring, Thomas, K., Odum, Susan, M., Griffin, William, L., Mason, Bohannon., McCoy, Thomas H. (2007). The Obesity Epidemic: Its Effect on Total Joint Arthroplasty. *The Journal of Arthroplasty, 22(6)*, 71-76. https://doi.org/10.1016/j.arth.2007.04.014\n",
    "\n",
    "<font size=\"2\">Gray, Natallia., Picone, Gabriel., Sloan, Frank., Yashkin, Arseniy. (2015). The Relationship between BMI and Onset of Diabetes Mellitus and its Complications. *National Library of Medicine, 108(1), 29-36*. https://doi: 10.14423/SMJ.0000000000000214\n",
    "\n",
    "<font size=\"2\">Momeni, Mohamadreza. (2023). Diabetes. Version 1 . Retrieved Oct 24, 2023 from https://www.kaggle.com/datasets/imtkaggleteam/diabetes \n",
    "\n",
    "<font size=\"2\">Patel, B. J., Mehta, D. N., Vaghani, A., & Patel, K. (2023). Correlation of Body Mass Index (BMI) with Saliva and Blood Glucose Levels in Diabetic and Non-Diabetic Patients. *Journal of pharmacy & bioallied sciences, 15(Suppl 2)*, S1204–S1207. https://doi.org/10.4103/jpbs.jpbs_159_23\n"
   ]
  },
  {
   "cell_type": "code",
   "execution_count": null,
   "id": "5be6bddf-d199-40aa-a1fc-31cb92ec82be",
   "metadata": {},
   "outputs": [],
   "source": []
  },
  {
   "cell_type": "code",
   "execution_count": null,
   "id": "1b385fae-9a01-4f0e-b16d-f7c0625ea720",
   "metadata": {},
   "outputs": [],
   "source": []
  },
  {
   "cell_type": "code",
   "execution_count": null,
   "id": "1cc90c23-0e99-48f2-b4da-e55e9cbaea05",
   "metadata": {},
   "outputs": [],
   "source": []
  }
 ],
 "metadata": {
  "kernelspec": {
   "display_name": "R",
   "language": "R",
   "name": "ir"
  },
  "language_info": {
   "codemirror_mode": "r",
   "file_extension": ".r",
   "mimetype": "text/x-r-source",
   "name": "R",
   "pygments_lexer": "r",
   "version": "4.2.2"
  }
 },
 "nbformat": 4,
 "nbformat_minor": 5
}
