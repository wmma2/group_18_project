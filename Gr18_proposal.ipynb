{
 "cells": [
  {
   "cell_type": "markdown",
   "id": "82030e6c-76e3-4a0b-b723-c5b2d704320d",
   "metadata": {},
   "source": [
    "Group 18 Project Proposal\n",
    "Title: Vancouver Foods"
   ]
  },
  {
   "cell_type": "code",
   "execution_count": 8,
   "id": "56eefb61-ec08-49c8-a12d-40fa08683047",
   "metadata": {
    "tags": []
   },
   "outputs": [
    {
     "name": "stderr",
     "output_type": "stream",
     "text": [
      "── \u001b[1mAttaching packages\u001b[22m ─────────────────────────────────────── tidyverse 1.3.2 ──\n",
      "\u001b[32m✔\u001b[39m \u001b[34mggplot2\u001b[39m 3.4.2     \u001b[32m✔\u001b[39m \u001b[34mpurrr  \u001b[39m 1.0.1\n",
      "\u001b[32m✔\u001b[39m \u001b[34mtibble \u001b[39m 3.2.1     \u001b[32m✔\u001b[39m \u001b[34mdplyr  \u001b[39m 1.1.1\n",
      "\u001b[32m✔\u001b[39m \u001b[34mtidyr  \u001b[39m 1.3.0     \u001b[32m✔\u001b[39m \u001b[34mstringr\u001b[39m 1.5.0\n",
      "\u001b[32m✔\u001b[39m \u001b[34mreadr  \u001b[39m 2.1.3     \u001b[32m✔\u001b[39m \u001b[34mforcats\u001b[39m 0.5.2\n",
      "── \u001b[1mConflicts\u001b[22m ────────────────────────────────────────── tidyverse_conflicts() ──\n",
      "\u001b[31m✖\u001b[39m \u001b[34mdplyr\u001b[39m::\u001b[32mfilter()\u001b[39m         masks \u001b[34mstats\u001b[39m::filter()\n",
      "\u001b[31m✖\u001b[39m \u001b[34mreadr\u001b[39m::\u001b[32mguess_encoding()\u001b[39m masks \u001b[34mrvest\u001b[39m::guess_encoding()\n",
      "\u001b[31m✖\u001b[39m \u001b[34mdplyr\u001b[39m::\u001b[32mlag()\u001b[39m            masks \u001b[34mstats\u001b[39m::lag()\n"
     ]
    }
   ],
   "source": [
    "library(rvest)\n",
    "library(tidyverse)"
   ]
  },
  {
   "cell_type": "code",
   "execution_count": 11,
   "id": "0f71b3cf-6e07-40e3-ad57-20d02995a61f",
   "metadata": {},
   "outputs": [
    {
     "name": "stderr",
     "output_type": "stream",
     "text": [
      "\u001b[1m\u001b[22mNew names:\n",
      "\u001b[36m•\u001b[39m `Rating` -> `Rating...3`\n",
      "\u001b[36m•\u001b[39m `Rating` -> `Rating...15`\n",
      "\u001b[1mRows: \u001b[22m\u001b[34m384\u001b[39m \u001b[1mColumns: \u001b[22m\u001b[34m17\u001b[39m\n",
      "\u001b[36m──\u001b[39m \u001b[1mColumn specification\u001b[22m \u001b[36m────────────────────────────────────────────────────────\u001b[39m\n",
      "\u001b[1mDelimiter:\u001b[22m \",\"\n",
      "\u001b[31mchr\u001b[39m (14): Name of Restaurent, Type of Cusine, Cost, Landmark, Opening time, ...\n",
      "\u001b[32mdbl\u001b[39m  (2): Rating...3, Rating...15\n",
      "\u001b[32mnum\u001b[39m  (1): Total No of Ratings\n",
      "\n",
      "\u001b[36mℹ\u001b[39m Use `spec()` to retrieve the full column specification for this data.\n",
      "\u001b[36mℹ\u001b[39m Specify the column types or set `show_col_types = FALSE` to quiet this message.\n"
     ]
    },
    {
     "ename": "ERROR",
     "evalue": "Error in UseMethod(\"xml_text\"): no applicable method for 'xml_text' applied to an object of class \"c('spec_tbl_df', 'tbl_df', 'tbl', 'data.frame')\"\n",
     "output_type": "error",
     "traceback": [
      "Error in UseMethod(\"xml_text\"): no applicable method for 'xml_text' applied to an object of class \"c('spec_tbl_df', 'tbl_df', 'tbl', 'data.frame')\"\nTraceback:\n",
      "1. html_text(van_url)",
      "2. xml_text(x, trim = trim)"
     ]
    }
   ],
   "source": [
    "#reading data\n",
    "URL <- 'https://raw.githubusercontent.com/wmma2/group_18_project/main/data.csv'\n",
    "\n",
    "van_url <- read_csv(URL)\n",
    "data <- html_text(van_url)\n",
    "\n",
    "data"
   ]
  },
  {
   "cell_type": "code",
   "execution_count": null,
   "id": "7ea0eaa0-7497-45d2-ba0c-09da49d106c4",
   "metadata": {},
   "outputs": [],
   "source": [
    "Download dataset\n",
    "Upload to git\n",
    "If URL starts with \n",
    "Click RAW - gives you CSV file as a text file \n",
    "Make it so it starts with 'raw'"
   ]
  },
  {
   "cell_type": "code",
   "execution_count": null,
   "id": "e931a8b2-191d-4f49-9a67-c0c77c7b08d8",
   "metadata": {},
   "outputs": [],
   "source": []
  }
 ],
 "metadata": {
  "kernelspec": {
   "display_name": "R",
   "language": "R",
   "name": "ir"
  },
  "language_info": {
   "codemirror_mode": "r",
   "file_extension": ".r",
   "mimetype": "text/x-r-source",
   "name": "R",
   "pygments_lexer": "r",
   "version": "4.2.2"
  }
 },
 "nbformat": 4,
 "nbformat_minor": 5
}
