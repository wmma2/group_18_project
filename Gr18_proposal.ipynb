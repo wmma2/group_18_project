{
 "cells": [
  {
   "cell_type": "markdown",
   "id": "82030e6c-76e3-4a0b-b723-c5b2d704320d",
   "metadata": {},
   "source": [
    "hello world"
   ]
  },
  {
   "cell_type": "markdown",
   "id": "90fcc650-dbce-41ad-972e-d6c755b4d53f",
   "metadata": {},
   "source": []
  }
 ],
 "metadata": {
  "kernelspec": {
   "display_name": "R",
   "language": "R",
   "name": "ir"
  },
  "language_info": {
   "codemirror_mode": "r",
   "file_extension": ".r",
   "mimetype": "text/x-r-source",
   "name": "R",
   "pygments_lexer": "r",
   "version": "4.2.2"
  }
 },
 "nbformat": 4,
 "nbformat_minor": 5
}
